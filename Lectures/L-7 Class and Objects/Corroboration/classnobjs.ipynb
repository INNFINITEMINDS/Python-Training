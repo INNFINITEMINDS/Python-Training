{
 "cells": [
  {
   "cell_type": "markdown",
   "metadata": {},
   "source": [
    "#### Class and instance creation"
   ]
  },
  {
   "cell_type": "code",
   "execution_count": 97,
   "metadata": {},
   "outputs": [],
   "source": [
    "class Point(object): # class definition.\n",
    "    \"\"\" 2D cartesian point creation.\"\"\""
   ]
  },
  {
   "cell_type": "code",
   "execution_count": 98,
   "metadata": {},
   "outputs": [],
   "source": [
    "p_1 = Point()  #instance creation"
   ]
  },
  {
   "cell_type": "code",
   "execution_count": 99,
   "metadata": {},
   "outputs": [
    {
     "data": {
      "text/plain": [
       "<__main__.Point at 0x23a9f30deb8>"
      ]
     },
     "execution_count": 99,
     "metadata": {},
     "output_type": "execute_result"
    }
   ],
   "source": [
    "p_1"
   ]
  },
  {
   "cell_type": "code",
   "execution_count": 100,
   "metadata": {},
   "outputs": [],
   "source": [
    "p_1.x = 3 # dot notation to access attributes.\n",
    "p_1.y = 4"
   ]
  },
  {
   "cell_type": "code",
   "execution_count": 101,
   "metadata": {},
   "outputs": [
    {
     "data": {
      "text/plain": [
       "(3, 4)"
      ]
     },
     "execution_count": 101,
     "metadata": {},
     "output_type": "execute_result"
    }
   ],
   "source": [
    "p_1.x, p_1.y"
   ]
  },
  {
   "cell_type": "markdown",
   "metadata": {},
   "source": [
    "####  Class for Human body\n",
    "Self is the a keyword refering to this object."
   ]
  },
  {
   "cell_type": "code",
   "execution_count": 117,
   "metadata": {},
   "outputs": [],
   "source": [
    "class Human(object):\n",
    "    def __init__(self, name, age):\n",
    "        self.__name = name\n",
    "        self.__age = age\n",
    "    \n",
    "    def learn(self, topic):\n",
    "        print(\"learing\",topic,\"!!!\")\n",
    "        \n",
    "    def eat(self, food):\n",
    "        print(\"eating\", food, \"!!!\") \n",
    "        self._digestive_system(food)\n",
    "        \n",
    "    def _digestive_system(self, food):\n",
    "        print(\"Digesting\", food)\n",
    "        \n",
    "    def sleep(self):\n",
    "        print(\"Sleeping !!!\")\n",
    "        self.dream() # calling class method through instance.\n",
    "        \n",
    "    @classmethod\n",
    "    def dream(cls):\n",
    "        print(\"Dreaming !!!\")\n",
    "        \n",
    "    def set_job(self, job=\"jobless\"):\n",
    "        self.__job = job\n",
    "        if job != \"jobless\":\n",
    "            print(\"I am a\",job,\"!!!!\")\n",
    "        else:\n",
    "            print(\"I am \",job)"
   ]
  },
  {
   "cell_type": "code",
   "execution_count": 118,
   "metadata": {},
   "outputs": [],
   "source": [
    "person_1 = Human(\"Ram\", 25)"
   ]
  },
  {
   "cell_type": "code",
   "execution_count": 119,
   "metadata": {},
   "outputs": [
    {
     "name": "stdout",
     "output_type": "stream",
     "text": [
      "I am a Hunter !!!!\n"
     ]
    }
   ],
   "source": [
    "person_1.set_job(job=\"Hunter\")"
   ]
  },
  {
   "cell_type": "code",
   "execution_count": 120,
   "metadata": {},
   "outputs": [
    {
     "ename": "AttributeError",
     "evalue": "'Human' object has no attribute '__job'",
     "output_type": "error",
     "traceback": [
      "\u001b[1;31m---------------------------------------------------------------------------\u001b[0m",
      "\u001b[1;31mAttributeError\u001b[0m                            Traceback (most recent call last)",
      "\u001b[1;32m<ipython-input-120-5d922b74dc1a>\u001b[0m in \u001b[0;36m<module>\u001b[1;34m()\u001b[0m\n\u001b[1;32m----> 1\u001b[1;33m \u001b[0mperson_1\u001b[0m\u001b[1;33m.\u001b[0m\u001b[0m__job\u001b[0m  \u001b[1;31m# job is name mangled\u001b[0m\u001b[1;33m\u001b[0m\u001b[0m\n\u001b[0m",
      "\u001b[1;31mAttributeError\u001b[0m: 'Human' object has no attribute '__job'"
     ]
    }
   ],
   "source": [
    "person_1.__job  # job is name mangled"
   ]
  },
  {
   "cell_type": "code",
   "execution_count": 121,
   "metadata": {},
   "outputs": [
    {
     "data": {
      "text/plain": [
       "'Hunter'"
      ]
     },
     "execution_count": 121,
     "metadata": {},
     "output_type": "execute_result"
    }
   ],
   "source": [
    "person_1._Human__job # this is the name mangeling for __job"
   ]
  },
  {
   "cell_type": "code",
   "execution_count": 122,
   "metadata": {},
   "outputs": [
    {
     "name": "stdout",
     "output_type": "stream",
     "text": [
      "eating cake !!!\n",
      "Digesting cake\n"
     ]
    }
   ],
   "source": [
    "person_1.eat(\"cake\")"
   ]
  },
  {
   "cell_type": "code",
   "execution_count": 123,
   "metadata": {},
   "outputs": [
    {
     "name": "stdout",
     "output_type": "stream",
     "text": [
      "Sleeping !!!\n",
      "Dreaming !!!\n"
     ]
    }
   ],
   "source": [
    "person_1.sleep()"
   ]
  },
  {
   "cell_type": "markdown",
   "metadata": {},
   "source": [
    "### Abstarct class for method 1 sub-classing."
   ]
  },
  {
   "cell_type": "code",
   "execution_count": 113,
   "metadata": {},
   "outputs": [],
   "source": [
    "from abc import ABCMeta\n",
    "class Supernatural(metaclass = ABCMeta):\n",
    "    \n",
    "    @abc.abstractproperty\n",
    "    def affinity(self):\n",
    "        return \"Should never get here!!!\"\n",
    "    \n",
    "    @affinity.setter\n",
    "    def affinity(self, power):\n",
    "        return\n",
    "    \n",
    "    @abc.abstractmethod\n",
    "    def use_special_power(self):\n",
    "        \"\"\" perform special power action\"\"\"\n",
    "        return\n",
    "    \n",
    "class Superhuman(Supernatural):\n",
    "    def __init__(self, name, age):\n",
    "        self.__name = name\n",
    "        self.__age = age\n",
    "        self.__power = None\n",
    "    \n",
    "    @property\n",
    "    def affinity(self):\n",
    "        return(self.__power)\n",
    "    \n",
    "    @affinity.setter\n",
    "    def affinity(self, power):\n",
    "        self.__power = power    \n",
    "    \n",
    "    def use_special_power(self):\n",
    "        print(\"using\",self.__power, \"!!!\")"
   ]
  },
  {
   "cell_type": "code",
   "execution_count": 114,
   "metadata": {},
   "outputs": [
    {
     "name": "stdout",
     "output_type": "stream",
     "text": [
      "using Wind !!!\n"
     ]
    }
   ],
   "source": [
    "person = Superhuman(\"Ram\", 8)\n",
    "person.affinity = \"Wind\"\n",
    "person.use_special_power()"
   ]
  },
  {
   "cell_type": "code",
   "execution_count": 115,
   "metadata": {},
   "outputs": [],
   "source": [
    "#### Abstarct subclassing using register method"
   ]
  },
  {
   "cell_type": "code",
   "execution_count": 116,
   "metadata": {},
   "outputs": [
    {
     "data": {
      "text/plain": [
       "__main__.Superdog"
      ]
     },
     "execution_count": 116,
     "metadata": {},
     "output_type": "execute_result"
    }
   ],
   "source": [
    "class Superdog(Supernatural):\n",
    "    def __init__(self, name, age):\n",
    "        self.__name = name\n",
    "        self.__age = age\n",
    "        self.__power = None\n",
    "    \n",
    "    @property\n",
    "    def affinity(self):\n",
    "        return(self.__power)\n",
    "    \n",
    "    @affinity.setter\n",
    "    def affinity(self, power):\n",
    "        self.__power = power    \n",
    "    \n",
    "    def use_special_power(self):\n",
    "        print(\"using dog\",self.__power, \"!!!\")\n",
    "        \n",
    "Supernatural.register(Superdog)"
   ]
  }
 ],
 "metadata": {
  "kernelspec": {
   "display_name": "Python 3",
   "language": "python",
   "name": "python3"
  },
  "language_info": {
   "codemirror_mode": {
    "name": "ipython",
    "version": 3
   },
   "file_extension": ".py",
   "mimetype": "text/x-python",
   "name": "python",
   "nbconvert_exporter": "python",
   "pygments_lexer": "ipython3",
   "version": "3.6.1"
  }
 },
 "nbformat": 4,
 "nbformat_minor": 2
}
