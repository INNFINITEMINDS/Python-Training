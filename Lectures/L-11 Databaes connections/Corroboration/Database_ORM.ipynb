{
 "cells": [
  {
   "cell_type": "markdown",
   "metadata": {},
   "source": [
    "#### Database ORM (Object-Relational-Mapper)\n",
    "Object is class object, Relational is database (mostly relational database) and mapper is connection between the prior objects.\n",
    "http://www.rmunn.com/sqlalchemy-tutorial/tutorial.html"
   ]
  },
  {
   "cell_type": "markdown",
   "metadata": {},
   "source": [
    "#### Three important components for ORM creation are:\n",
    "* Table in database.\n",
    "* Mapper to map python class to table on database.\n",
    "* Class object how the database records to a normal object.\n",
    "#### SQLAlchemy declarative allows to !!create table, mapper and object in a single class!!"
   ]
  },
  {
   "cell_type": "markdown",
   "metadata": {},
   "source": [
    "#### creation of table in sql database."
   ]
  },
  {
   "cell_type": "code",
   "execution_count": 2,
   "metadata": {},
   "outputs": [],
   "source": [
    "from sqlalchemy import create_engine\n",
    "from sqlalchemy import Column, Integer, String\n",
    "from sqlalchemy.ext.declarative import declarative_base\n",
    "from sqlalchemy.orm import relationship"
   ]
  },
  {
   "cell_type": "code",
   "execution_count": 3,
   "metadata": {},
   "outputs": [],
   "source": [
    "engine = create_engine(\"sqlite:///example4.db\")  #Change to a newdatabase it will create a newdatabase.\n",
    "base = declarative_base() #factory function to create model. holds meta(schema) infromation of tables."
   ]
  },
  {
   "cell_type": "code",
   "execution_count": 4,
   "metadata": {},
   "outputs": [],
   "source": [
    "class Person(base): \n",
    "    __tablename__ = 'person'\n",
    "    name = Column(String(50), nullable=False)\n",
    "    id = Column(Integer, primary_key=True)"
   ]
  },
  {
   "cell_type": "code",
   "execution_count": 5,
   "metadata": {},
   "outputs": [],
   "source": [
    "base.metadata.create_all(engine)  # tables are created on database."
   ]
  },
  {
   "cell_type": "markdown",
   "metadata": {},
   "source": [
    "### Insert data into a sql table"
   ]
  },
  {
   "cell_type": "code",
   "execution_count": 6,
   "metadata": {},
   "outputs": [],
   "source": [
    "base.metadata.bind = engine # database engine is connnected to base object."
   ]
  },
  {
   "cell_type": "code",
   "execution_count": 7,
   "metadata": {},
   "outputs": [],
   "source": [
    "#all transactions are stroed to a staging area and not persisted untill commit is called.\n",
    "from sqlalchemy.orm import sessionmaker\n",
    "dbsession = sessionmaker(bind=engine) # configurable session factory binded to database engine"
   ]
  },
  {
   "cell_type": "code",
   "execution_count": 8,
   "metadata": {},
   "outputs": [],
   "source": [
    "session = dbsession() #session instance\n",
    "new_person = Person(name=\"venkat\")\n",
    "session.add(new_person)  #create a journal file(a stagging file before persist to physical storage device.)\n",
    "session.commit()\n",
    "session.close() #connection is closed.\n",
    "engine.dispose() #destroys all the connections."
   ]
  },
  {
   "cell_type": "markdown",
   "metadata": {},
   "source": [
    "#### Retrive data from sql table"
   ]
  },
  {
   "cell_type": "code",
   "execution_count": 9,
   "metadata": {},
   "outputs": [],
   "source": [
    "from sqlalchemy import create_engine\n",
    "from sqlalchemy import Column, String, Integer #Generics\n",
    "from sqlalchemy.ext.declarative import declarative_base\n",
    "from sqlalchemy.orm import sessionmaker"
   ]
  },
  {
   "cell_type": "code",
   "execution_count": 10,
   "metadata": {},
   "outputs": [],
   "source": [
    "base = declarative_base()\n",
    "engine = create_engine(\"sqlite:///example4.db\")"
   ]
  },
  {
   "cell_type": "code",
   "execution_count": 11,
   "metadata": {},
   "outputs": [],
   "source": [
    "class Person(base):\n",
    "    __tablename__ = \"person\"\n",
    "    name = Column(String(50), nullable=False)\n",
    "    id = Column(Integer, primary_key=True)"
   ]
  },
  {
   "cell_type": "code",
   "execution_count": 12,
   "metadata": {},
   "outputs": [],
   "source": [
    "base.metadata.bind = engine\n",
    "dbsession = sessionmaker(bind=engine)"
   ]
  },
  {
   "cell_type": "code",
   "execution_count": 13,
   "metadata": {},
   "outputs": [],
   "source": [
    "session = dbsession()"
   ]
  },
  {
   "cell_type": "code",
   "execution_count": 14,
   "metadata": {},
   "outputs": [
    {
     "data": {
      "text/plain": [
       "<__main__.Person at 0x222fb2e77b8>"
      ]
     },
     "execution_count": 14,
     "metadata": {},
     "output_type": "execute_result"
    }
   ],
   "source": [
    "session.query(Person).first()"
   ]
  },
  {
   "cell_type": "code",
   "execution_count": 15,
   "metadata": {},
   "outputs": [],
   "source": [
    "result_object = session.query(Person).first()"
   ]
  },
  {
   "cell_type": "code",
   "execution_count": 16,
   "metadata": {},
   "outputs": [
    {
     "data": {
      "text/plain": [
       "('venkat', 1)"
      ]
     },
     "execution_count": 16,
     "metadata": {},
     "output_type": "execute_result"
    }
   ],
   "source": [
    "result_object.name, result_object.id"
   ]
  },
  {
   "cell_type": "markdown",
   "metadata": {},
   "source": [
    "#### Delete data and table for database"
   ]
  },
  {
   "cell_type": "code",
   "execution_count": 18,
   "metadata": {},
   "outputs": [],
   "source": [
    "from sqlalchemy import create_engine\n",
    "from sqlalchemy import String, Integer, Column\n",
    "from sqlalchemy.ext.declarative import declarative_base\n",
    "from sqlalchemy.orm import sessionmaker"
   ]
  },
  {
   "cell_type": "code",
   "execution_count": 19,
   "metadata": {},
   "outputs": [],
   "source": [
    "engine = create_engine(\"sqlite:///example4.db\")\n",
    "base = declarative_base()\n",
    "class Person(base):\n",
    "    __tablename__ = \"person\"\n",
    "    name = Column(String(50), nullable=False)\n",
    "    id = Column(Integer, primary_key=True)\n",
    "base.metadata.bind = engine\n",
    "dbsession = sessionmaker(bind=engine)\n",
    "session = dbsession()"
   ]
  },
  {
   "cell_type": "code",
   "execution_count": 20,
   "metadata": {},
   "outputs": [
    {
     "data": {
      "text/plain": [
       "['add_column',\n",
       " 'add_columns',\n",
       " 'add_entity',\n",
       " 'all',\n",
       " 'as_scalar',\n",
       " 'autoflush',\n",
       " 'column_descriptions',\n",
       " 'correlate',\n",
       " 'count',\n",
       " 'cte',\n",
       " 'delete',\n",
       " 'dispatch',\n",
       " 'distinct',\n",
       " 'enable_assertions',\n",
       " 'enable_eagerloads',\n",
       " 'except_',\n",
       " 'except_all',\n",
       " 'execution_options',\n",
       " 'exists',\n",
       " 'filter',\n",
       " 'filter_by',\n",
       " 'first',\n",
       " 'from_self',\n",
       " 'from_statement',\n",
       " 'get',\n",
       " 'group_by',\n",
       " 'having',\n",
       " 'instances',\n",
       " 'intersect',\n",
       " 'intersect_all',\n",
       " 'join',\n",
       " 'label',\n",
       " 'limit',\n",
       " 'logger',\n",
       " 'merge_result',\n",
       " 'offset',\n",
       " 'one',\n",
       " 'one_or_none',\n",
       " 'options',\n",
       " 'order_by',\n",
       " 'outerjoin',\n",
       " 'params',\n",
       " 'populate_existing',\n",
       " 'prefix_with',\n",
       " 'reset_joinpoint',\n",
       " 'scalar',\n",
       " 'select_entity_from',\n",
       " 'select_from',\n",
       " 'selectable',\n",
       " 'session',\n",
       " 'slice',\n",
       " 'statement',\n",
       " 'subquery',\n",
       " 'suffix_with',\n",
       " 'union',\n",
       " 'union_all',\n",
       " 'update',\n",
       " 'value',\n",
       " 'values',\n",
       " 'whereclause',\n",
       " 'with_entities',\n",
       " 'with_for_update',\n",
       " 'with_hint',\n",
       " 'with_labels',\n",
       " 'with_lockmode',\n",
       " 'with_parent',\n",
       " 'with_polymorphic',\n",
       " 'with_session',\n",
       " 'with_statement_hint',\n",
       " 'with_transformation',\n",
       " 'yield_per']"
      ]
     },
     "execution_count": 20,
     "metadata": {},
     "output_type": "execute_result"
    }
   ],
   "source": [
    "[label for label in dir(session.query(Person)) if not label.startswith('_')] #all methods that can be operated on db object."
   ]
  },
  {
   "cell_type": "code",
   "execution_count": 21,
   "metadata": {},
   "outputs": [],
   "source": [
    "for name in (\"Parvathi\", \"Siva\", \"Ganapathi\", \"Karthikaya\"):\n",
    "    new_person = Person(name=name)\n",
    "    session.add(new_person)\n",
    "session.commit()"
   ]
  },
  {
   "cell_type": "code",
   "execution_count": 22,
   "metadata": {},
   "outputs": [
    {
     "name": "stdout",
     "output_type": "stream",
     "text": [
      "venkat 1\n",
      "Parvathi 2\n",
      "Siva 3\n",
      "Ganapathi 4\n",
      "Karthikaya 5\n"
     ]
    }
   ],
   "source": [
    "for x in session.query(Person).all():\n",
    "    print(x.name, x.id)"
   ]
  },
  {
   "cell_type": "code",
   "execution_count": 23,
   "metadata": {},
   "outputs": [],
   "source": [
    "session.query(Person).delete() # Truncates the table\n",
    "session.commit()"
   ]
  },
  {
   "cell_type": "code",
   "execution_count": 24,
   "metadata": {},
   "outputs": [],
   "source": [
    "for x in session.query(Person).all():\n",
    "    print(x.name, x.id)"
   ]
  },
  {
   "cell_type": "code",
   "execution_count": 25,
   "metadata": {},
   "outputs": [
    {
     "data": {
      "text/plain": [
       "['person']"
      ]
     },
     "execution_count": 25,
     "metadata": {},
     "output_type": "execute_result"
    }
   ],
   "source": [
    "engine.table_names()"
   ]
  },
  {
   "cell_type": "code",
   "execution_count": 26,
   "metadata": {},
   "outputs": [],
   "source": [
    "Person.__table__.drop()  #drop a table on database."
   ]
  },
  {
   "cell_type": "code",
   "execution_count": 27,
   "metadata": {},
   "outputs": [
    {
     "data": {
      "text/plain": [
       "[]"
      ]
     },
     "execution_count": 27,
     "metadata": {},
     "output_type": "execute_result"
    }
   ],
   "source": [
    "engine.table_names()"
   ]
  },
  {
   "cell_type": "code",
   "execution_count": 41,
   "metadata": {},
   "outputs": [],
   "source": [
    "session.flush() #clear all residual objects.\n",
    "session.close() #connection is closed.\n",
    "engine.dispose() #destroys all the connections."
   ]
  },
  {
   "cell_type": "code",
   "execution_count": 1,
   "metadata": {},
   "outputs": [],
   "source": [
    "import os  #kill process usng resmon and then run if not deleted in windows.\n",
    "os.remove(\"example4.db\")"
   ]
  },
  {
   "cell_type": "code",
   "execution_count": null,
   "metadata": {},
   "outputs": [],
   "source": []
  }
 ],
 "metadata": {
  "kernelspec": {
   "display_name": "Python 3",
   "language": "python",
   "name": "python3"
  },
  "language_info": {
   "codemirror_mode": {
    "name": "ipython",
    "version": 3
   },
   "file_extension": ".py",
   "mimetype": "text/x-python",
   "name": "python",
   "nbconvert_exporter": "python",
   "pygments_lexer": "ipython3",
   "version": "3.6.1"
  }
 },
 "nbformat": 4,
 "nbformat_minor": 2
}
