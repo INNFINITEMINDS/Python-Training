{
 "cells": [
  {
   "cell_type": "markdown",
   "metadata": {},
   "source": [
    "### range function.\n",
    "> range(start, stop, step)\n",
    "  Range funtion generates iterater object which can be converted to list of item using list function which can be looped over.    \n",
    "** range(10)-> list(0, 1, 2, 3, 4, 5, 6, 7, 8, 9) **  \n",
    "** range(5,10) -> list(5, 6, 7, 8, 9) **  \n",
    "** range(1,10,2) -> list(1, 3, 5, 7, 9) **"
   ]
  },
  {
   "cell_type": "code",
   "execution_count": 9,
   "metadata": {},
   "outputs": [
    {
     "data": {
      "text/plain": [
       "[1, 2, 3, 4, 5, 6, 7, 8, 9]"
      ]
     },
     "execution_count": 9,
     "metadata": {},
     "output_type": "execute_result"
    }
   ],
   "source": [
    "items = range(1,10)\n",
    "list(items)"
   ]
  },
  {
   "cell_type": "markdown",
   "metadata": {},
   "source": [
    "### For loop."
   ]
  },
  {
   "cell_type": "code",
   "execution_count": 10,
   "metadata": {},
   "outputs": [
    {
     "name": "stdout",
     "output_type": "stream",
     "text": [
      "1\t2\t3\t4\t5\t6\t7\t8\t9\t"
     ]
    }
   ],
   "source": [
    "for item in items:\n",
    "    print(item, end='\\t')"
   ]
  },
  {
   "cell_type": "markdown",
   "metadata": {},
   "source": [
    "### For loop with else block."
   ]
  },
  {
   "cell_type": "code",
   "execution_count": 11,
   "metadata": {},
   "outputs": [
    {
     "name": "stdout",
     "output_type": "stream",
     "text": [
      "Loop exited without breaks\n"
     ]
    }
   ],
   "source": [
    "for item in items:\n",
    "    pass\n",
    "else:\n",
    "    print(\"Loop exited without breaks\")\n",
    "    "
   ]
  },
  {
   "cell_type": "code",
   "execution_count": 12,
   "metadata": {},
   "outputs": [
    {
     "name": "stdout",
     "output_type": "stream",
     "text": [
      "I am broke!!!\n"
     ]
    }
   ],
   "source": [
    "for item in items:\n",
    "    if item == 5:\n",
    "        print(\"I am broke!!!\")\n",
    "        break\n",
    "else:\n",
    "    print(\"Loop exited without breaks\")"
   ]
  },
  {
   "cell_type": "markdown",
   "metadata": {},
   "source": [
    "### While loop."
   ]
  },
  {
   "cell_type": "code",
   "execution_count": 13,
   "metadata": {},
   "outputs": [
    {
     "name": "stdout",
     "output_type": "stream",
     "text": [
      "1\t2\t3\t4\t5\t6\t7\t8\t9\t"
     ]
    }
   ],
   "source": [
    "length = len(items)  #len is function to return number of items in a list like data structure.\n",
    "i = 0 \n",
    "while i < length:\n",
    "    print(items[i], end='\\t')\n",
    "    i += 1\n",
    "    "
   ]
  },
  {
   "cell_type": "markdown",
   "metadata": {},
   "source": [
    "### While loop with else block."
   ]
  },
  {
   "cell_type": "code",
   "execution_count": 14,
   "metadata": {},
   "outputs": [
    {
     "name": "stdout",
     "output_type": "stream",
     "text": [
      "1\t2\t3\t4\t5\t6\t7\t8\t9\tLoop exited without breaks\n"
     ]
    }
   ],
   "source": [
    "length = len(items)  #len is function to return number of items in a list like data structure.\n",
    "i = 0 \n",
    "while i < length:\n",
    "    print(items[i], end='\\t')\n",
    "    i += 1\n",
    "else:\n",
    "    print(\"Loop exited without breaks\")"
   ]
  },
  {
   "cell_type": "code",
   "execution_count": 15,
   "metadata": {},
   "outputs": [
    {
     "name": "stdout",
     "output_type": "stream",
     "text": [
      "1\t2\t3\t4\t5\t6\t"
     ]
    }
   ],
   "source": [
    "length = len(items)  #len is function to return number of items in a list like data structure.\n",
    "i = 0 \n",
    "while i < length:\n",
    "    print(items[i], end='\\t')\n",
    "    if i == 5:\n",
    "        break\n",
    "    i += 1\n",
    "else:\n",
    "    print(\"Loop exited without breaks\")"
   ]
  },
  {
   "cell_type": "markdown",
   "metadata": {},
   "source": [
    "### Nested for loop."
   ]
  },
  {
   "cell_type": "code",
   "execution_count": 5,
   "metadata": {},
   "outputs": [
    {
     "name": "stdout",
     "output_type": "stream",
     "text": [
      "1,1\t1,2\t1,3\t1,4\t1,5\t1,6\t1,7\t1,8\t1,9\t2,1\t2,2\t2,3\t2,4\t2,5\t2,6\t2,7\t2,8\t2,9\t3,1\t3,2\t3,3\t3,4\t3,5\t3,6\t3,7\t3,8\t3,9\t4,1\t4,2\t4,3\t4,4\t4,5\t4,6\t4,7\t4,8\t4,9\t5,1\t5,2\t5,3\t5,4\t5,5\t5,6\t5,7\t5,8\t5,9\t6,1\t6,2\t6,3\t6,4\t6,5\t6,6\t6,7\t6,8\t6,9\t7,1\t7,2\t7,3\t7,4\t7,5\t7,6\t7,7\t7,8\t7,9\t8,1\t8,2\t8,3\t8,4\t8,5\t8,6\t8,7\t8,8\t8,9\t9,1\t9,2\t9,3\t9,4\t9,5\t9,6\t9,7\t9,8\t9,9\t"
     ]
    }
   ],
   "source": [
    "for item1 in items:  #Cartesian points of a give list of elements.(simillar to product in itertools)\n",
    "    for item2 in items:\n",
    "        print(item1, item2, sep=',', end='\\t')"
   ]
  },
  {
   "cell_type": "markdown",
   "metadata": {},
   "source": [
    "### Nested while loop."
   ]
  },
  {
   "cell_type": "code",
   "execution_count": 7,
   "metadata": {},
   "outputs": [
    {
     "name": "stdout",
     "output_type": "stream",
     "text": [
      "1,1\t1,2\t1,3\t1,4\t1,5\t1,6\t1,7\t1,8\t1,9\t2,1\t2,2\t2,3\t2,4\t2,5\t2,6\t2,7\t2,8\t2,9\t3,1\t3,2\t3,3\t3,4\t3,5\t3,6\t3,7\t3,8\t3,9\t4,1\t4,2\t4,3\t4,4\t4,5\t4,6\t4,7\t4,8\t4,9\t5,1\t5,2\t5,3\t5,4\t5,5\t5,6\t5,7\t5,8\t5,9\t6,1\t6,2\t6,3\t6,4\t6,5\t6,6\t6,7\t6,8\t6,9\t7,1\t7,2\t7,3\t7,4\t7,5\t7,6\t7,7\t7,8\t7,9\t8,1\t8,2\t8,3\t8,4\t8,5\t8,6\t8,7\t8,8\t8,9\t9,1\t9,2\t9,3\t9,4\t9,5\t9,6\t9,7\t9,8\t9,9\t"
     ]
    }
   ],
   "source": [
    "length = len(items)\n",
    "i = 0\n",
    "while i < length: # Cartesian product method.\n",
    "    j = 0\n",
    "    while j < length:\n",
    "        print(items[i], items[j], sep=',', end='\\t')\n",
    "        j += 1\n",
    "    i += 1"
   ]
  },
  {
   "cell_type": "markdown",
   "metadata": {},
   "source": [
    "### Usage of continue."
   ]
  },
  {
   "cell_type": "code",
   "execution_count": 10,
   "metadata": {},
   "outputs": [
    {
     "name": "stdout",
     "output_type": "stream",
     "text": [
      "2,2\t2,4\t2,6\t2,8\t4,2\t4,4\t4,6\t4,8\t6,2\t6,4\t6,6\t6,8\t8,2\t8,4\t8,6\t8,8\t"
     ]
    }
   ],
   "source": [
    "for item1 in items:  # gives only combination of even numbers\n",
    "    for item2 in items:\n",
    "        if item1 % 2 or item2 % 2:\n",
    "            continue\n",
    "        print(item1, item2, sep=',', end='\\t')"
   ]
  },
  {
   "cell_type": "markdown",
   "metadata": {},
   "source": [
    "### Usage of break."
   ]
  },
  {
   "cell_type": "code",
   "execution_count": 17,
   "metadata": {},
   "outputs": [
    {
     "name": "stdout",
     "output_type": "stream",
     "text": [
      "1,1\t"
     ]
    }
   ],
   "source": [
    "for item1 in items:  # gives only combination of even numbers\n",
    "    for item2 in items:\n",
    "        if item1 != item2:\n",
    "            break\n",
    "        print(item1, item2, sep=',', end='\\t')"
   ]
  },
  {
   "cell_type": "code",
   "execution_count": null,
   "metadata": {},
   "outputs": [],
   "source": [
    "for item1 in items:  # gives only combination of even numbers\n",
    "    for item2 in items:\n",
    "        if item1 != item2:\n",
    "            break\n",
    "        print(item1, item2, sep=',', end='\\t')\n",
    "    else:\n",
    "        print(item1, item2, end = \"\")"
   ]
  },
  {
   "cell_type": "markdown",
   "metadata": {},
   "source": [
    "### Usage of pass. pass is a keyword which is a place holder for statements and does nothing."
   ]
  },
  {
   "cell_type": "markdown",
   "metadata": {},
   "source": [
    "### Advanced Iter loops for sophisticated loops."
   ]
  },
  {
   "cell_type": "code",
   "execution_count": null,
   "metadata": {},
   "outputs": [],
   "source": []
  }
 ],
 "metadata": {
  "kernelspec": {
   "display_name": "Python 3",
   "language": "python",
   "name": "python3"
  },
  "language_info": {
   "codemirror_mode": {
    "name": "ipython",
    "version": 3
   },
   "file_extension": ".py",
   "mimetype": "text/x-python",
   "name": "python",
   "nbconvert_exporter": "python",
   "pygments_lexer": "ipython3",
   "version": "3.6.1"
  }
 },
 "nbformat": 4,
 "nbformat_minor": 2
}
